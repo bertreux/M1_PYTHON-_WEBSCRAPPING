{
 "cells": [
  {
   "cell_type": "code",
   "execution_count": 1,
   "metadata": {},
   "outputs": [],
   "source": [
    "import requests\n",
    "from bs4 import BeautifulSoup\n",
    "import pandas as pd\n",
    "from unidecode import unidecode"
   ]
  },
  {
   "cell_type": "code",
   "execution_count": 2,
   "metadata": {},
   "outputs": [],
   "source": [
    "page = requests.get(\"https://www.lemonde.fr/actualite-en-continu/\")"
   ]
  },
  {
   "cell_type": "code",
   "execution_count": 3,
   "metadata": {},
   "outputs": [],
   "source": [
    "soup = BeautifulSoup(page.content, 'html.parser')"
   ]
  },
  {
   "cell_type": "code",
   "execution_count": 4,
   "metadata": {},
   "outputs": [],
   "source": [
    "list_articles = soup.find(id=\"river\")"
   ]
  },
  {
   "cell_type": "code",
   "execution_count": 5,
   "metadata": {},
   "outputs": [],
   "source": [
    "articles_sections = list_articles.find_all('section', {\"class\":\"teaser teaser--inline-picture\"})"
   ]
  },
  {
   "cell_type": "code",
   "execution_count": 6,
   "metadata": {},
   "outputs": [],
   "source": [
    "titres = []\n",
    "for l in articles_sections:\n",
    "    titres.append(l.find('h3', {\"class\":\"teaser__title\"}).get_text())"
   ]
  },
  {
   "cell_type": "code",
   "execution_count": 7,
   "metadata": {},
   "outputs": [
    {
     "data": {
      "text/plain": [
       "['Le patron de Boeing, Dave Calhoun, quitte l’entreprise',\n",
       " 'Les derniers éléphants de Côte d’Ivoire, adulés mais mal protégés',\n",
       " 'Attentat près de Moscou\\xa0: la branche de l’EI «\\xa0impliquée\\xa0» avait mené «\\xa0plusieurs tentatives\\xa0» en France, dit Emmanuel Macron',\n",
       " 'Plusieurs établissements scolaires visés par des menaces d’attentats dans l’académie de Reims entre dimanche et lundi',\n",
       " 'Une décision de justice ordonne le blocage de Telegram en Espagne',\n",
       " 'Emmanuel Macron face aux élus qui demandent un statut d’autonomie pour la Guyane',\n",
       " 'Attentat près de Moscou\\xa0: le Kremlin refuse de commenter la revendication de l’organisation Etat islamique tant que l’enquête est en cours',\n",
       " 'Autoroute A69\\xa0: des écologistes perchés dans des arbres devant la Cour européenne des droits de l’homme',\n",
       " 'Trafic de drogue\\xa0: plusieurs nouvelles opérations «\\xa0place nette XXL\\xa0» lancées en France, «\\xa0plus de 187\\xa0interpellations\\xa0»',\n",
       " 'Attentat près de Moscou\\xa0: des failles au sommet, un bouc émissaire à l’extérieur',\n",
       " 'Lutte contre les maltraitances et handicap\\xa0: le gouvernement veut contrôler tous les établissements médico-sociaux accueillant des personnes handicapées',\n",
       " 'Attentat près de Moscou\\xa0: les quatre assaillants présumés ont été placés en détention provisoire',\n",
       " 'Le Sénégal sur la voie d’un séisme politique\\xa0: l’opposant Bassirou Diomaye Faye donné en tête du premier tour de l’élection présidentielle',\n",
       " 'Marie Mendras\\xa0: «\\xa0Croire à une adhésion massive des Russes à Poutine est une erreur\\xa0»',\n",
       " '«\\xa0L’amélioration de la résilience de l’Ukraine est essentielle\\xa0» pour la présidente de la BERD',\n",
       " 'Près de Soumy, la police évacue les villages ukrainiens frontaliers de la Russie',\n",
       " 'Agriculture\\xa0: un projet de loi remanié qui conforte le modèle productiviste',\n",
       " 'Présidentielle au Sénégal\\xa0: le candidat de l’opposition Bassirou Diomaye Faye donné largement en tête, le camp d’Amadou Ba se dit «\\xa0certain\\xa0» d’un second tour',\n",
       " 'Au Brésil, au moins vingt-cinq morts dans une violente tempête et de fortes pluies',\n",
       " 'Le Royaume-Uni va annoncer de nouveaux investissements dans le nucléaire',\n",
       " 'Mexique\\xa0: cinquante-huit personnes libérées sur les soixante-six enlevées à\\xa0Culiacan',\n",
       " 'A69\\xa0: des opposants au projet d’autoroute obtiennent un sursis pour le bois de la Crémade',\n",
       " 'Elections européennes 2024\\xa0: le PS réuni derrière Raphaël Glucksmann pour son premier grand meeting',\n",
       " 'Attentat près de Moscou\\xa0: la France rehausse le plan Vigipirate au niveau «\\xa0urgence attentat\\xa0»',\n",
       " 'Sidaction\\xa02024\\xa0: le montant des promesses de dons atteint 3,87\\xa0millions d’euros',\n",
       " 'Brésil\\xa0: arrestation des commanditaires présumés de l’assassinat de Marielle Franco',\n",
       " 'Face à sa montagne de dette, Patrick Drahi engage un jeu musclé avec ses prêteurs',\n",
       " 'Le directeur de la rédaction de «\\xa0La Provence\\xa0» réintégré après sa mise à pied',\n",
       " 'Guerre Israël-Hamas, jour\\xa0170\\xa0: Emmanuel Macron réitère sa «\\xa0ferme opposition\\xa0» à une offensive israélienne sur Rafah',\n",
       " 'Attentat près de Moscou\\xa0: l’Asie centrale, nouvelle tête de pont de l’organisation Etat islamique',\n",
       " 'En Irlande, Simon Harris désigné par son parti pour devenir premier ministre',\n",
       " 'Alexis Lebrun remporte un haletant duel fratricide face à son frère Félix et conserve sa couronne de champion de France de tennis de table',\n",
       " 'Attentat près de Moscou, présidentielle au Sénégal, européennes… Les\\xa0cinq infos à retenir du week-end',\n",
       " 'Haïti\\xa0: la France affrète des hélicoptères pour évacuer ses\\xa0ressortissants vulnérables',\n",
       " '«\\xa0React\\xa0» sur\\xa0Twitch\\xa0: comment les internautes qui se filment en train de regarder la télé irritent les ayants droit',\n",
       " 'Le Guyana, jeune démocratie fragilisée par ses immenses réserves pétrolières',\n",
       " 'Ski\\xa0: privé d’un ultime duel par la météo, Cyprien Sarrazin ne ravit pas le globe de la descente à Marco Odermatt',\n",
       " 'Mitra Hejazipour, championne d’échecs\\xa0: «\\xa0J’ai porté le voile à l’âge de 5\\xa0ans, au fil des années je n’en pouvais plus\\xa0»',\n",
       " 'Election présidentielle au Sénégal\\xa0: les Sénégalais votent après des semaines d’incertitude',\n",
       " 'Douglas Kennedy, écrivain\\xa0: «\\xa0Au bar, il m’arrive d’écrire sur le zinc\\xa0»',\n",
       " 'Elections européennes\\xa0: l’essayiste Malika Sorel-Sutter rejoint le Rassemblement national',\n",
       " 'Belgique\\xa0: des fusillades à Bruxelles font un mort et un blessé grave',\n",
       " 'Mondiaux de patinage artistique\\xa0: après une remontée renversante, Adam Siao Him Fa décroche un bronze inattendu',\n",
       " '«\\xa0Main invisible du marché\\xa0», croissance… dernières croyances de l’Occident\\xa0?',\n",
       " 'Vainqueur à Melbourne, Carlos Sainz interrompt l’hégémonie Verstappen en formule\\xa01',\n",
       " 'Nathanaëlle Herbelin dialogue avec les nabis d’Orsay',\n",
       " 'La «\\xa0neuromanie\\xa0», cette tendance à vouloir tout expliquer par le cerveau',\n",
       " 'Au Nigeria, près de 140\\xa0élèves enlevés au début de mars par des hommes armés ont été libérés',\n",
       " 'Isabelle Jonveaux, sociologue\\xa0: «\\xa0Le jeûne spirituel répond à une saturation de la société de consommation\\xa0»',\n",
       " 'Paris 2024\\xa0: «\\xa0Les Ukrainiens ont gagné la bataille de la Seine\\xa0»',\n",
       " 'La liberté selon Jean Hélion, au Musée d’art moderne de Paris',\n",
       " 'Elections européennes\\xa0: Raphaël Glucksmann tente de s’immiscer dans le match entre Renaissance et le RN',\n",
       " 'A Beaubourg, «\\xa0La Muse endormie\\xa0» de Brancusi se fait un nom',\n",
       " 'Les Sénégalais face à un choix de société inédit lors de l’élection présidentielle',\n",
       " 'Slovaquie\\xa0: un libéral pro-Ukraine et un proche du pouvoir, prorusse, au second tour de la présidentielle',\n",
       " 'Au Brésil, une tempête dans le Sud-Est fait au moins douze morts',\n",
       " 'Guadeloupe\\xa0: enquêtes ouvertes à la suite d’«\\xa0actes de malveillance\\xa0» sur des réseaux d’eau',\n",
       " 'Venezuela\\xa0: l’opposition dénonce un «\\xa0blocage\\xa0» l’empêchant d’inscrire sa candidate à la présidentielle']"
      ]
     },
     "execution_count": 7,
     "metadata": {},
     "output_type": "execute_result"
    }
   ],
   "source": [
    "titres"
   ]
  },
  {
   "cell_type": "code",
   "execution_count": null,
   "metadata": {},
   "outputs": [],
   "source": [
    "descriptions = []\n",
    "for l in articles_sections:\n",
    "    descriptions.append(l.find('p', {\"class\":\"teaser__desc\"}).get_text())"
   ]
  }
 ],
 "metadata": {
  "kernelspec": {
   "display_name": "Python 3",
   "language": "python",
   "name": "python3"
  },
  "language_info": {
   "codemirror_mode": {
    "name": "ipython",
    "version": 3
   },
   "file_extension": ".py",
   "mimetype": "text/x-python",
   "name": "python",
   "nbconvert_exporter": "python",
   "pygments_lexer": "ipython3",
   "version": "3.9.13"
  }
 },
 "nbformat": 4,
 "nbformat_minor": 2
}
