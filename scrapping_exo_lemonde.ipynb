{
 "cells": [
  {
   "cell_type": "code",
   "execution_count": 16,
   "metadata": {},
   "outputs": [],
   "source": [
    "import requests\n",
    "from bs4 import BeautifulSoup\n",
    "import pandas as pd\n",
    "from unidecode import unidecode"
   ]
  },
  {
   "cell_type": "code",
   "execution_count": 17,
   "metadata": {},
   "outputs": [],
   "source": [
    "page = requests.get(\"https://www.lemonde.fr/actualite-en-continu/\")"
   ]
  },
  {
   "cell_type": "code",
   "execution_count": 18,
   "metadata": {},
   "outputs": [],
   "source": [
    "soup = BeautifulSoup(page.content, 'html.parser')"
   ]
  },
  {
   "cell_type": "code",
   "execution_count": 19,
   "metadata": {},
   "outputs": [],
   "source": [
    "list_articles = soup.find(id=\"river\")"
   ]
  },
  {
   "cell_type": "code",
   "execution_count": 20,
   "metadata": {},
   "outputs": [],
   "source": [
    "articles_sections = list_articles.find_all('section', {\"class\":\"teaser teaser--inline-picture\"})"
   ]
  },
  {
   "cell_type": "code",
   "execution_count": 21,
   "metadata": {},
   "outputs": [],
   "source": [
    "titres = []\n",
    "for l in articles_sections:\n",
    "    titres.append(l.find('h3', {\"class\":\"teaser__title\"}).get_text())"
   ]
  },
  {
   "cell_type": "code",
   "execution_count": 22,
   "metadata": {},
   "outputs": [
    {
     "data": {
      "text/plain": [
       "['Donald Trump attendu au tribunal pour une caution de près d’un demi-milliard de dollars, avec le risque de voir ses comptes gelés',\n",
       " 'François Rebsamen remet sur la table la question de la séparation entre la Bourgogne et la Franche-Comté',\n",
       " 'Péter Eötvös, compositeur et chef d’orchestre hongrois, est mort',\n",
       " 'Le patron de Boeing, Dave Calhoun, quitte l’entreprise',\n",
       " 'Les derniers éléphants de Côte d’Ivoire, adulés mais mal protégés',\n",
       " 'Attentat près de Moscou\\xa0: la branche de l’EI «\\xa0impliquée\\xa0» avait mené «\\xa0plusieurs tentatives\\xa0» en France, dit Emmanuel Macron',\n",
       " 'Plusieurs établissements scolaires visés par des menaces d’attentats dans l’académie de Reims entre dimanche et lundi',\n",
       " 'Une décision de justice ordonne le blocage de Telegram en Espagne',\n",
       " 'Emmanuel Macron face aux élus qui demandent un statut d’autonomie pour la Guyane',\n",
       " 'Attentat près de Moscou\\xa0: le Kremlin refuse de commenter la revendication de l’organisation Etat islamique tant que l’enquête est en cours',\n",
       " 'Autoroute A69\\xa0: des écologistes perchés dans des arbres devant la Cour européenne des droits de l’homme',\n",
       " 'Trafic de drogue\\xa0: plusieurs nouvelles opérations «\\xa0place nette XXL\\xa0» lancées en France, «\\xa0plus de 187\\xa0interpellations\\xa0»',\n",
       " 'Attentat près de Moscou\\xa0: des failles au sommet, un bouc émissaire à l’extérieur',\n",
       " 'Lutte contre les maltraitances et handicap\\xa0: le gouvernement veut contrôler tous les établissements médico-sociaux accueillant des personnes handicapées',\n",
       " 'Attentat près de Moscou\\xa0: les quatre assaillants présumés ont été placés en détention provisoire',\n",
       " 'Le Sénégal sur la voie d’un séisme politique\\xa0: l’opposant Bassirou Diomaye Faye donné en tête du premier tour de l’élection présidentielle',\n",
       " 'Marie Mendras\\xa0: «\\xa0Croire à une adhésion massive des Russes à Poutine est une erreur\\xa0»',\n",
       " '«\\xa0L’amélioration de la résilience de l’Ukraine est essentielle\\xa0» pour la présidente de la BERD',\n",
       " 'Près de Soumy, la police évacue les villages ukrainiens frontaliers de la Russie',\n",
       " 'Agriculture\\xa0: un projet de loi remanié qui conforte le modèle productiviste',\n",
       " 'Présidentielle au Sénégal\\xa0: le candidat de l’opposition Bassirou Diomaye Faye donné largement en tête, le camp d’Amadou Ba se dit «\\xa0certain\\xa0» d’un second tour',\n",
       " 'Au Brésil, au moins vingt-cinq morts dans une violente tempête et de fortes pluies',\n",
       " 'Le Royaume-Uni va annoncer de nouveaux investissements dans le nucléaire',\n",
       " 'Mexique\\xa0: cinquante-huit personnes libérées sur les soixante-six enlevées à\\xa0Culiacan',\n",
       " 'A69\\xa0: des opposants au projet d’autoroute obtiennent un sursis pour le bois de la Crémade',\n",
       " 'Elections européennes 2024\\xa0: le PS réuni derrière Raphaël Glucksmann pour son premier grand meeting',\n",
       " 'Attentat près de Moscou\\xa0: la France rehausse le plan Vigipirate au niveau «\\xa0urgence attentat\\xa0»',\n",
       " 'Sidaction\\xa02024\\xa0: le montant des promesses de dons atteint 3,87\\xa0millions d’euros',\n",
       " 'Brésil\\xa0: arrestation des commanditaires présumés de l’assassinat de Marielle Franco',\n",
       " 'Face à sa montagne de dette, Patrick Drahi engage un jeu musclé avec ses prêteurs',\n",
       " 'Le directeur de la rédaction de «\\xa0La Provence\\xa0» réintégré après sa mise à pied',\n",
       " 'Guerre Israël-Hamas, jour\\xa0170\\xa0: Emmanuel Macron réitère sa «\\xa0ferme opposition\\xa0» à une offensive israélienne sur Rafah',\n",
       " 'Attentat près de Moscou\\xa0: l’Asie centrale, nouvelle tête de pont de l’organisation Etat islamique',\n",
       " 'En Irlande, Simon Harris désigné par son parti pour devenir premier ministre',\n",
       " 'Alexis Lebrun remporte un haletant duel fratricide face à son frère Félix et conserve sa couronne de champion de France de tennis de table',\n",
       " 'Attentat près de Moscou, présidentielle au Sénégal, européennes… Les\\xa0cinq infos à retenir du week-end',\n",
       " 'Haïti\\xa0: la France affrète des hélicoptères pour évacuer ses\\xa0ressortissants vulnérables',\n",
       " '«\\xa0React\\xa0» sur\\xa0Twitch\\xa0: comment les internautes qui se filment en train de regarder la télé irritent les ayants droit',\n",
       " 'Le Guyana, jeune démocratie fragilisée par ses immenses réserves pétrolières',\n",
       " 'Ski\\xa0: privé d’un ultime duel par la météo, Cyprien Sarrazin ne ravit pas le globe de la descente à Marco Odermatt',\n",
       " 'Mitra Hejazipour, championne d’échecs\\xa0: «\\xa0J’ai porté le voile à l’âge de 5\\xa0ans, au fil des années je n’en pouvais plus\\xa0»',\n",
       " 'Election présidentielle au Sénégal\\xa0: les Sénégalais votent après des semaines d’incertitude',\n",
       " 'Douglas Kennedy, écrivain\\xa0: «\\xa0Au bar, il m’arrive d’écrire sur le zinc\\xa0»',\n",
       " 'Elections européennes\\xa0: l’essayiste Malika Sorel-Sutter rejoint le Rassemblement national',\n",
       " 'Belgique\\xa0: des fusillades à Bruxelles font un mort et un blessé grave',\n",
       " 'Mondiaux de patinage artistique\\xa0: après une remontée renversante, Adam Siao Him Fa décroche un bronze inattendu',\n",
       " '«\\xa0Main invisible du marché\\xa0», croissance… dernières croyances de l’Occident\\xa0?',\n",
       " 'Vainqueur à Melbourne, Carlos Sainz interrompt l’hégémonie Verstappen en formule\\xa01',\n",
       " 'Nathanaëlle Herbelin dialogue avec les nabis d’Orsay',\n",
       " 'La «\\xa0neuromanie\\xa0», cette tendance à vouloir tout expliquer par le cerveau',\n",
       " 'Au Nigeria, près de 140\\xa0élèves enlevés au début de mars par des hommes armés ont été libérés',\n",
       " 'Isabelle Jonveaux, sociologue\\xa0: «\\xa0Le jeûne spirituel répond à une saturation de la société de consommation\\xa0»',\n",
       " 'Paris 2024\\xa0: «\\xa0Les Ukrainiens ont gagné la bataille de la Seine\\xa0»',\n",
       " 'La liberté selon Jean Hélion, au Musée d’art moderne de Paris',\n",
       " 'Elections européennes\\xa0: Raphaël Glucksmann tente de s’immiscer dans le match entre Renaissance et le RN',\n",
       " 'A Beaubourg, «\\xa0La Muse endormie\\xa0» de Brancusi se fait un nom',\n",
       " 'Les Sénégalais face à un choix de société inédit lors de l’élection présidentielle',\n",
       " 'Slovaquie\\xa0: un libéral pro-Ukraine et un proche du pouvoir, prorusse, au second tour de la présidentielle']"
      ]
     },
     "execution_count": 22,
     "metadata": {},
     "output_type": "execute_result"
    }
   ],
   "source": [
    "titres"
   ]
  },
  {
   "cell_type": "code",
   "execution_count": 23,
   "metadata": {},
   "outputs": [],
   "source": [
    "descriptions = []\n",
    "for l in articles_sections:\n",
    "    descriptions.append(l.find('p', {\"class\":\"teaser__desc\"}).get_text())"
   ]
  },
  {
   "cell_type": "code",
   "execution_count": 24,
   "metadata": {},
   "outputs": [
    {
     "data": {
      "text/plain": [
       "['L’ancien président des Etats-Unis doit également se rendre devant la justice de l’Etat de New York afin qu’une nouvelle date pour le procès lié aux paiements à une actrice de films pornographiques soit fixée.',\n",
       " 'Le maire de Dijon, ex-socialiste, estime que sa métropole est lésée par la fusion des deux régions et souhaite revoir la réforme territoriale de 2015. La présidente socialiste de la collectivité, Marie-Guite Dufay, lui répond qu’il «\\xa0représente Dijon et pas la Bourgogne\\xa0».',\n",
       " 'Aguerri aux côtés de Karlheinz Stockhausen puis de Pierre Boulez, le musicien hongrois s’est affirmé comme le digne héritier de Béla Bartok, en particulier dans le domaine de l’opéra.',\n",
       " 'En pleine tourmente depuis l’accident du vol 1282\\xa0d’Alaska Airlines, le 5\\xa0janvier, l’avionneur américain remanie sa direction.',\n",
       " 'Emblèmes du pays, les éléphants sont en voie d’extinction sur le territoire ivoirien. Les pouvoirs publics souhaitent créer des sanctuaires, mais les menaces – déforestation, pression humaine, mauvaise gestion – demeurent.',\n",
       " 'Selon le chef de l’Etat, les services de renseignement français estiment que l’organisation Etat islamique au Khorassan (EI-K) «\\xa0a fomenté cet attentat et l’a mis à exécution\\xa0».',\n",
       " 'Samedi, ce sont dix collèges et lycées de l’académie d’Amiens ainsi qu’une quinzaine d’établissements de l’académie de Lille qui avaient été visés par des messages similaires, selon les rectorats concernés.',\n",
       " 'La plate-forme n’a pas donné suite aux réquisitions d’un juge dans une affaire de piratage de vidéos.',\n",
       " 'Le chef de l’Etat est en visite, lundi et mardi, dans le département français d’Amazonie. Quatre ans après avoir voté une proposition d’autonomie dans un cadre spécifique, les élus guyanais attendent d’Emmanuel Macron qu’il favorise une révision constitutionnelle, comme en Corse.',\n",
       " 'Le Kremlin a également refusé de commenter les allégations de torture des suspects, évoquant, là encore, l’enquête.',\n",
       " 'Début mars, la CEDH a rejeté un recours déposé contre l’Etat français par les opposants à l’A69, qui protestaient contre les méthodes employées par les forces de l’ordre pour les déloger des arbres dans le Tarn.',\n",
       " 'Des opérations simultanées ont eu lieu dans la métropole lilloise, dans l’agglomération lyonnaise, à Dijon et dans la région parisienne, selon le ministère de l’intérieur.',\n",
       " 'Après avoir négligé la menace djihadiste, le pouvoir russe persiste à accuser l’Ukraine d’implication dans l’attentat contre le Crocus City Hall, qui a fait 144\\xa0morts à Moscou. Les suspects, torturés, ont reconnu leur culpabilité.',\n",
       " '«\\xa0Les inspecteurs seront chargés de vérifier que les droits fondamentaux des enfants et des adultes handicapés sont respectés\\xa0», déclare le ministère. Cette stratégie fait suite aux travaux des Etats généraux des maltraitances.',\n",
       " 'Les quatre hommes sont accusés de «\\xa0terrorisme\\xa0» et encourent la prison à perpétuité. Leur détention provisoire, fixée jusqu’au 22\\xa0mai, peut être prolongée dans l’attente de leur procès, dont la date n’a pas encore été fixée.',\n",
       " 'Alors que plusieurs candidats ont reconnu la victoire du candidat du principal parti d’opposition, Amadou Ba, le candidat du parti au pouvoir se dit «\\xa0certain dans le pire des cas\\xa0» d’être au second tour. Les résultats officiels sont attendus.',\n",
       " 'La spécialiste de l’ex-URSS considère, dans un entretien au «\\xa0Monde\\xa0», que l’écrasement des droits civiques dans le pays constitue le versant indissociable de la guerre d’agression menée en Ukraine.',\n",
       " 'Odile Renaud-Basso présente la manière dont la Banque européenne pour la reconstruction et le développement soutient l’effort de guerre ukrainien depuis deux ans, étant le premier prêteur institutionnel aux entreprises du pays.',\n",
       " 'En réaction aux incursions de commandos partisans de l’Ukraine sur son territoire, l’armée russe bombarde sans relâche cette région frontalière.',\n",
       " 'Le texte devrait être présenté en conseil des ministres vendredi 29\\xa0mars. Après le mouvement de colère des agriculteurs en janvier, la souveraineté alimentaire s’impose désormais en préambule.',\n",
       " 'Le dépouillement toujours en cours donne un avantage à ce proche de l’opposant Ousmane Sonko, devant le candidat du pouvoir, tous deux très loin devant les quinze autres concurrents.',\n",
       " 'La tempête est due à l’arrivée d’un front froid qui a fait des ravages en milieu de semaine dans le Rio Grande do Sul, avant de toucher Sao Paulo et Rio, puis d’atteindre Espirito Santo.',\n",
       " '«\\xa0La sécurité énergétique et la sécurité nationale du Royaume-Uni dépendent du nucléaire\\xa0», a affirmé Downing Street dans un communiqué.',\n",
       " 'Les faits sont survenus vendredi, au lendemain de la mort de trois personnes au cours d’un affrontement armé dans la ville natale de Joaquin «\\xa0El Chapo\\xa0» Guzman, ancien chef du cartel de Sinaloa.',\n",
       " 'En raison de la nidification d’espèces protégées, l’abattage d’arbres du bois de la Crémade, dans le Tarn, ne pourra être entrepris avant le 1ᵉʳ\\xa0septembre, a tranché l’Office français de la biodiversité.',\n",
       " 'La tête de liste du Parti socialiste et de Place publique a développé, dimanche, sa vision d’une social-démocratie européenne «\\xa0débarrassée de toute forme de mollesse et de compromission\\xa0», et fustigé «\\xa0l’indolence des élites françaises et européennes face à Poutine\\xa0».',\n",
       " 'Gabriel Attal a annoncé cette mesure à l’issue d’un conseil de défense à l’Elysée, organisé deux jours après l’attentat terroriste près de Moscou, revendiqué par l’Etat islamique.',\n",
       " 'L’édition 2023 avait récolté un montant similaire. La collecte, lancée vendredi avec le soutien de trente-cinq médias partenaires, reste ouverte jusqu’au 12\\xa0avril.',\n",
       " 'Trois notables de Rio de Janeiro, dont un député fédéral et l’ancien chef de la police locale, ont été incarcérés. Ils sont accusés d’être à l’origine de la mort de la conseillère municipale, une figure de la gauche carioca, abattue en mars\\xa02018.',\n",
       " 'Le propriétaire de SFR leur a demandé de renoncer à une partie de leurs 24\\xa0milliards d’euros de créances. Criant au «\\xa0chantage\\xa0», ils organisent la résistance.',\n",
       " 'Les journalistes du quotidien régional, en grève depuis vendredi, maintiennent toutefois un rassemblement prévu lundi, a fait savoir un délégué syndical.',\n",
       " 'Le chef de l’Etat a averti Benyamin Nétanyahou lors d’un entretien téléphonique dimanche que «\\xa0le transfert forcé de population constituait un crime de guerre\\xa0», et réitéré son appel à un cessez-le-feu à Gaza.',\n",
       " 'Le retour des talibans à Kaboul, à l’été 2021, avait réduit son champ d’action. Mais l’internationale djihadiste à l’origine de la sanglante attaque de vendredi soir en Russie, a essaimé dans les pays du nord de l’Afghanistan.',\n",
       " 'Il était le seul candidat pour diriger le Fine Gael et succéder au premier ministre Leo Varadkar, qui a démissionné mercredi, à la surprise générale. A 37\\xa0ans, Simon Harris sera le plus jeune premier ministre de l’histoire de l’Irlande.',\n",
       " 'A quatre mois des Jeux olympiques de Paris\\xa02024, l’aîné des frères Lebrun a battu son cadet, Félix Lebrun, numéro\\xa05\\xa0mondial, dimanche en finale. Et il s’arroge un troisième titre d’affilée.',\n",
       " 'Vous n’avez pas suivi l’actualité, samedi 23\\xa0mars et dimanche 24\\xa0mars\\xa0? Voici ce qu’il s’est passé pendant ces dernières quarante-huit heures.',\n",
       " 'Ces vols militaires ont débuté dimanche, alors que les trajets aériens commerciaux avec Port-au-Prince sont interrompus. Quelque 1\\xa0100\\xa0Français vivent en Haïti, selon les chiffres du Quai d’Orsay.',\n",
       " 'Toujours plus populaire, la pratique du «\\xa0react\\xa0» n’est pas toujours très bien vue par le milieu du streaming – et encore moins par les chaînes de télévision.',\n",
       " 'Les inégalités d’opportunité face à l’économie du pétrole, qui dope la croissance du pays, rouvrent les plaies des divisions ethniques héritées du passé esclavagiste de cette ancienne colonie britannique.',\n",
       " 'L’ultime épreuve de la saison, à Saalbach-Hinterglemm (Autriche), a été annulée dimanche en raison de conditions météo défavorables. Deuxième du classement de la descente, le Français clôt une saison auréolé d’un double succès à Kitzbühel.',\n",
       " '«\\xa0Je ne serais pas arrivée là si… » Chaque semaine, «\\xa0Le Monde\\xa0» interroge une personnalité sur un moment décisif de son existence. La joueuse franco-iranienne revient sur la décision qui a bouleversé sa vie\\xa0: jouer sans son voile au championnat du monde de 2019, ce qui a entraîné son expulsion de l’équipe nationale d’Iran et son exil.',\n",
       " 'Près de 7,3\\xa0millions de personnes sont appelées aux urnes, dimanche 24\\xa0mars. Un scrutin très attendu après un mois d’une crise politique inédite dans le pays, provoquée par le report de l’élection.',\n",
       " 'L’auteur américain se méfie de celles et de ceux qui boivent trop ou trop peu. Il aime concocter ses cocktails et fréquenter les rades de quartier pour y observer les gens.',\n",
       " 'L’essayiste, soutien de François Fillon en\\xa02017, sera en deuxième position sur la liste de Jordan Bardella pour le scrutin du 9\\xa0juin.',\n",
       " 'Ces deux incidents séparés se sont produits dans la nuit de samedi à dimanche, sur fond de hausse de la criminalité liée au trafic de drogue.',\n",
       " 'Auteur de la «\\xa0meilleure performance\\xa0» de sa vie lors du programme libre, le Français de 23\\xa0ans est monté sur le podium des championnats du monde, dimanche à Montréal, malgré un programme court raté la veille.',\n",
       " 'Des chercheurs considèrent le libéralisme comme une forme de pensée théologique. Le marché y fait figure de dieu digne de foi et tout puissant, avec ses prophètes et ses commandements.',\n",
       " 'Le pilote espagnol Ferrari a remporté, dimanche, le Grand Prix d’Australie, mettant fin à la série de neuf victoires de rang de Max Verstappen, contraint à l’abandon.',\n",
       " 'Jusqu’au 30\\xa0juin, le musée parisien accroche des œuvres de l’artiste contemporaine âgée de 35\\xa0ans en regard des toiles de Bonnard, de Vuillard ou de Vallotton.',\n",
       " 'Maîtriser nos émotions, apprendre mieux et plus vite, être épanoui au travail\\xa0: nous attendons de plus en plus de l’observation de nos neurones. Au point que certains neuroscientifiques envahissent l’espace médiatique.',\n",
       " 'Les écoliers sont «\\xa0sains et saufs\\xa0», a déclaré dimanche le gouverneur de l’Etat de Kaduna, sans préciser comment ils ont été libérés.',\n",
       " 'Au-delà du ramadan musulman ou du carême chrétien, le jeûne spirituel connaît un nouvel essor, selon Isabelle Jonveaux. La sociologue des religions analyse ces nouvelles pratiques de l’ascèse comme une recomposition du spirituel ainsi qu’une réaction devant l’épuisement du modèle consumériste.',\n",
       " 'L’exclusion par le CIO des athlètes russes et biélorusses de la cérémonie d’ouverture des Jeux olympiques est une première victoire pour l’Ukraine. Mais Kiev réclame davantage\\xa0: l’absence totale à Paris des sportifs des deux pays.',\n",
       " 'La rétrospective intitulée «\\xa0La Prose du monde\\xa0», présentée à Paris jusqu’au 18\\xa0août, célèbre l’indépendance déconcertante du peintre, qui fut à rebours de toutes les modes, et le paya cher.',\n",
       " 'La tête de liste de Place publique et le Parti socialiste tiendront leur premier grand meeting dimanche. Ils cherchent à se présenter comme le vote dit «\\xa0utile\\xa0» à gauche, et ont pour ambitieux objectif de terminer à la deuxième place, devant Renaissance.',\n",
       " 'La baronne Renée Frachon a inspiré une des œuvres les plus célèbres du sculpteur, auquel le Centre Pompidou consacre une rétrospective jusqu’en juillet. Depuis quatre ans, un passionné a entrepris de retracer son destin oublié.',\n",
       " 'Dimanche, les électeurs départageront Amadou Ba, le candidat du pouvoir, ancien premier ministre libéral, et Bassirou Diomaye Faye, le dauphin de l’opposant Ousmane Sonko, souverainiste et partisan d’une «\\xa0rupture\\xa0».',\n",
       " 'L’élection, marquée par de profondes divisions à propos de la guerre en Ukraine voisine, verra s’opposer Ivan Korcok, soutenu par l’opposition, et Peter Pellegrini, qui fait partie du camp au pouvoir, dirigé par le premier ministre, Robert Fico.']"
      ]
     },
     "execution_count": 24,
     "metadata": {},
     "output_type": "execute_result"
    }
   ],
   "source": [
    "descriptions"
   ]
  },
  {
   "cell_type": "code",
   "execution_count": 25,
   "metadata": {},
   "outputs": [],
   "source": [
    "images = []\n",
    "for l in articles_sections:\n",
    "    images.append(l.find('img')['data-src'])"
   ]
  },
  {
   "cell_type": "code",
   "execution_count": 26,
   "metadata": {},
   "outputs": [
    {
     "data": {
      "text/plain": [
       "['https://img.lemde.fr/2024/03/25/0/0/5088/3392/110/73/60/0/a4efd21_2024-03-25t014805z-1470929090-rc2os6aldcc6-rtrmadp-3-usa-trump.JPG',\n",
       " 'https://img.lemde.fr/2024/03/25/0/0/7521/5014/110/73/60/0/4a80510_1711355252606-000-327687d.jpg',\n",
       " 'https://img.lemde.fr/2024/03/25/439/0/2910/1940/110/73/60/0/88a1728_1711359192390-maxpeoplefrfour905520.jpg',\n",
       " 'https://img.lemde.fr/2024/03/25/0/0/4200/2800/110/73/60/0/09e6449_2024-03-25t121900z-834910315-rc2x1z9rpf5n-rtrmadp-3-boeing-ceo.JPG',\n",
       " 'https://img.lemde.fr/2024/03/23/114/0/4808/3205/110/73/60/0/c2a212d_1711186631036-pal0109041.jpg',\n",
       " 'https://img.lemde.fr/2024/03/25/1/0/8029/5352/110/73/60/0/f02d374_5016363-01-06.jpg',\n",
       " 'https://img.lemde.fr/2024/03/20/0/0/6371/4247/110/73/60/0/1b75652_2024-03-20t122329z-1627642338-rc2op6afim56-rtrmadp-3-france-politics.JPG',\n",
       " 'https://img.lemde.fr/2024/03/23/1/0/7402/4934/110/73/60/0/1d728d3_2024-03-23t101256z-500165514-rc2ufz92kxj2-rtrmadp-3-spain-court-telegram.JPG',\n",
       " 'https://img.lemde.fr/2024/03/23/1/0/8192/5461/110/73/60/0/73f7654_5002930-01-06.jpg',\n",
       " 'https://img.lemde.fr/2024/03/23/0/0/6000/4000/110/73/60/0/b2b81f0_8d3d7c528dc54ceb8f7fa00a2b2e4c20-0-7d4a17020bc145d8bf26149be12fb690.jpg',\n",
       " 'https://img.lemde.fr/2024/03/18/1/0/8192/5461/110/73/60/0/1b7bcc5_5949030-01-06.jpg',\n",
       " 'https://img.lemde.fr/2024/03/25/0/0/7723/5149/110/73/60/0/257ed7c_5015303-01-06.jpg',\n",
       " 'https://img.lemde.fr/2024/03/25/100/0/4912/3274/110/73/60/0/9ec6683_1711357614398-231516.jpg',\n",
       " 'https://img.lemde.fr/2024/03/19/0/23/8004/5336/110/73/60/0/8ed4759_5955505-01-06.jpg',\n",
       " 'https://img.lemde.fr/2024/03/24/0/0/3000/2000/110/73/60/0/955fbd5_8669a2febc804059b6bd0f270093242f-0-e3b3aa1f8806410597ffa101e135eb87.jpg',\n",
       " 'https://img.lemde.fr/2024/03/25/0/0/4182/2788/110/73/60/0/9b27482_1711354330362-354955.jpg',\n",
       " 'https://img.lemde.fr/2024/03/22/701/0/2002/1334/110/73/60/0/e98e337_1711107641629-marie-mendras-print.jpg',\n",
       " 'https://img.lemde.fr/2024/03/23/0/0/5478/3652/110/73/60/0/ac2ec3b_1711190523869-000-34k97ph.jpg',\n",
       " 'https://img.lemde.fr/2024/03/22/166/0/6986/4657/110/73/60/0/5465b6f_1711127113070-raf-021.JPG',\n",
       " 'https://img.lemde.fr/2024/03/24/0/0/6000/4000/110/73/60/0/c9478f7_1711303575829-337442.jpg',\n",
       " 'https://img.lemde.fr/2024/03/24/1/0/4000/2666/110/73/60/0/b18dfb4_5012369-01-06.jpg',\n",
       " 'https://img.lemde.fr/2024/03/24/0/300/3240/2160/110/73/60/0/83faa26_5009646-01-06.jpg',\n",
       " 'https://img.lemde.fr/2024/03/24/0/0/9000/6000/110/73/60/0/9a35c93_2024-03-24t145302z-397173871-rc2ds6akq70f-rtrmadp-3-britain-defence.JPG',\n",
       " 'https://img.lemde.fr/2024/03/23/0/93/1080/720/110/73/60/0/4faf4ca_1711155228136-vista-panorai-mica-de-culiacai-n.jpeg',\n",
       " 'https://img.lemde.fr/2024/03/24/0/0/5389/3592/110/73/60/0/5669e1b_5009152-01-06.jpg',\n",
       " 'https://img.lemde.fr/2024/03/24/297/0/5600/3733/110/73/60/0/a3f06a9_1711317376257-0z5a1497.jpg',\n",
       " 'https://img.lemde.fr/2024/03/23/0/0/3843/2562/110/73/60/0/cee77b0_5000084-01-06.jpg',\n",
       " 'https://img.lemde.fr/2023/03/24/0/0/5427/3618/110/73/60/0/7cec7fc_5827870-01-06.jpg',\n",
       " 'https://img.lemde.fr/2024/03/24/1/0/1657/1104/110/73/60/0/c44aede_5010710-01-06.jpg',\n",
       " 'https://img.lemde.fr/2016/04/19/0/0/2200/1466/110/73/60/0/8cb8fcc_BTE078_FRANCE-BUSINESS-_0419_11.JPG',\n",
       " 'https://img.lemde.fr/2024/03/22/0/0/6693/4462/110/73/60/0/22921d2_1711106745565-000-322j84k.jpg',\n",
       " 'https://img.lemde.fr/2024/03/24/1/0/8192/5461/110/73/60/0/743283a_5006524-01-06.jpg',\n",
       " 'https://img.lemde.fr/2024/03/24/0/26/3547/2365/110/73/60/0/58ea3bf_1711295856040-hemis-2ggw99b.jpg',\n",
       " 'https://img.lemde.fr/2024/03/24/0/0/5731/3821/110/73/60/0/6828444_5009536-01-06.jpg',\n",
       " 'https://img.lemde.fr/2024/03/24/1/0/4500/3000/110/73/60/0/e966215_5009842-01-06.jpg',\n",
       " 'https://img.lemde.fr/2024/03/24/0/0/1800/1200/110/73/60/0/3fe413d_1711299642050-fotojet-7.jpg',\n",
       " 'https://img.lemde.fr/2024/03/05/0/0/5500/3666/110/73/60/0/aa5bb94_2024-03-05t004103z-1323880788-rc25f6agomzk-rtrmadp-3-haiti-violence.JPG',\n",
       " 'https://img.lemde.fr/2024/03/21/0/0/4200/2800/110/73/60/0/57d19dc_1711029686294-twitch.jpg',\n",
       " 'https://img.lemde.fr/2024/03/21/0/0/5827/3885/110/73/60/0/e3922cd_1711033947001-guyana-2024-178.JPG',\n",
       " 'https://img.lemde.fr/2024/03/22/0/0/3360/2240/110/73/60/0/eb75653_5984155-01-06.jpg',\n",
       " 'https://img.lemde.fr/2024/03/22/46/0/2500/1666/110/73/60/0/d433755_1711101685260-isa0211986.jpg',\n",
       " 'https://img.lemde.fr/2024/03/24/0/0/5563/3709/110/73/60/0/7eb2dfa_8b432cd13c4141b2ba30059be568d37d-0-2b7806c91f9c4c759cbf3999b8e8b8c3.jpg',\n",
       " 'https://img.lemde.fr/2024/03/18/457/0/5493/3662/110/73/60/0/f68df18_1710775780023-img-8558-copie.jpg',\n",
       " 'https://img.lemde.fr/2024/03/24/0/0/4504/3002/110/73/60/0/b3cd90f_1711280835804-sipa-00733414-000009.jpg',\n",
       " 'https://img.lemde.fr/2024/03/24/0/0/5695/3797/110/73/60/0/5ecc25a_1711277791002-000-32nb2fq.jpg',\n",
       " 'https://img.lemde.fr/2024/03/23/0/0/6082/4055/110/73/60/0/636e79e_5003012-01-06.jpg',\n",
       " 'https://img.lemde.fr/2024/03/21/597/0/2551/1700/110/73/60/0/37f8d93_1711030570121-marchei-croyance.jpg',\n",
       " 'https://img.lemde.fr/2024/03/24/0/0/5722/3815/110/73/60/0/415717d_5006428-01-06.jpg',\n",
       " 'https://img.lemde.fr/2024/03/14/249/0/4393/2928/110/73/60/0/5aced97_1710412547545-10-ei-tre-ici-est-une-splendeur-1.jpg',\n",
       " 'https://img.lemde.fr/2024/03/21/137/0/4045/2697/110/73/60/0/26e06bd_1711016699560-andia-andia-380363.JPG',\n",
       " 'https://img.lemde.fr/2024/03/24/0/0/4200/2800/110/73/60/0/374310d_5006199-01-06.jpg',\n",
       " 'https://img.lemde.fr/2024/03/21/0/0/5472/3648/110/73/60/0/36209a1_1711043300354-000-34ly7na.jpg',\n",
       " 'https://img.lemde.fr/2024/03/22/0/0/2110/1407/110/73/60/0/8e3fe17_1711129441807-000-9up7bp.jpg',\n",
       " 'https://img.lemde.fr/2024/03/21/168/0/6307/4204/110/73/60/0/292cb1e_1711037307180-11.jpg',\n",
       " 'https://img.lemde.fr/2024/03/22/0/0/6000/4000/110/73/60/0/360316c_1711115080673-272874.jpg',\n",
       " 'https://img.lemde.fr/2024/03/18/137/0/945/630/110/73/60/0/848cca9_327293-3363965.jpg',\n",
       " 'https://img.lemde.fr/2024/03/23/1/0/4000/2666/110/73/60/0/183cbcd_1711180183929-275657.jpg',\n",
       " 'https://img.lemde.fr/2024/03/22/0/0/5499/3666/110/73/60/0/1b6616a_2024-03-22t154311z-1375463825-rc2ip6aih0vx-rtrmadp-3-slovakia-election-president.JPG']"
      ]
     },
     "execution_count": 26,
     "metadata": {},
     "output_type": "execute_result"
    }
   ],
   "source": [
    "images"
   ]
  }
 ],
 "metadata": {
  "kernelspec": {
   "display_name": "Python 3",
   "language": "python",
   "name": "python3"
  },
  "language_info": {
   "codemirror_mode": {
    "name": "ipython",
    "version": 3
   },
   "file_extension": ".py",
   "mimetype": "text/x-python",
   "name": "python",
   "nbconvert_exporter": "python",
   "pygments_lexer": "ipython3",
   "version": "3.9.13"
  }
 },
 "nbformat": 4,
 "nbformat_minor": 2
}
