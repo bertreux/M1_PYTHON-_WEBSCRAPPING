{
 "cells": [
  {
   "cell_type": "code",
   "execution_count": 1,
   "metadata": {},
   "outputs": [],
   "source": [
    "import os\n",
    "#set your environment variable for SSL certificate\n",
    "certi_path = r\"C:\\Users\\bertr\\AppData\\Local\\Programs\\Python\\Python39\\Lib\\site-packages\\pip\\_vendor\\certifi\\cacert.pem\"\n",
    "os.environ['REQUESTS_CA_BUNDLE'] = certi_path\n",
    "from selenium.webdriver.common.by import By\n",
    "from selenium import webdriver\n",
    "from selenium.webdriver.chrome.service import Service\n",
    "from webdriver_manager.chrome import ChromeDriverManager\n",
    "from selenium.webdriver.chrome.options import Options\n",
    "import requests\n",
    "from bs4 import BeautifulSoup\n",
    "import random\n",
    "import time\n",
    "import json\n",
    "import pandas as pd"
   ]
  },
  {
   "cell_type": "code",
   "execution_count": 2,
   "metadata": {},
   "outputs": [],
   "source": [
    "def initialize_driver(headers_list, proxy_list):\n",
    "    options = Options()\n",
    "    #select a random user-agent from the list\n",
    "    user_agent = random.choice(headers_list)[\"User-Agent\"]\n",
    "    options.add_argument(f\"user-agent={user_agent}\")\n",
    "    \n",
    "    #select a random proxy from the list\n",
    "    proxy = random.choice(proxy_list)\n",
    "    if proxy:\n",
    "        options.add_argument(f\"--proxy-server={proxy}\")\n",
    "    \n",
    "    #add some common options\n",
    "    #options.add_argument(\"--headless\")\n",
    "    options.add_argument(\"--disable-extensions\")\n",
    "    options.add_argument(\"--ignore-certificate-errors\")\n",
    "\n",
    "    #initialize Chrome WebDriver with the specified options\n",
    "    service = Service(ChromeDriverManager().install())\n",
    "    driver = webdriver.Chrome(service=service, options=options)\n",
    "\n",
    "    #set implicit wait of 10sec\n",
    "    driver.implicitly_wait(10)\n",
    "\n",
    "    return driver"
   ]
  },
  {
   "cell_type": "code",
   "execution_count": 3,
   "metadata": {},
   "outputs": [],
   "source": [
    "def MainPage(driver, url):\n",
    "    driver.get(url)\n",
    "    time.sleep(3)"
   ]
  },
  {
   "cell_type": "code",
   "execution_count": 9,
   "metadata": {},
   "outputs": [],
   "source": [
    "def nbHisytoryByPage(driver):\n",
    "    try:\n",
    "        liste_histoires = driver.find_element(By.ID, \"liste_histoires\")\n",
    "        search_results = driver.find_elements(By.TAG_NAME, \"article\")\n",
    "        search_results_count = len(search_results)\n",
    "        return search_results_count\n",
    "\n",
    "    except Exception as e:\n",
    "        print(\"An error occurred in NB_OFFER:\", str(e))\n",
    "        return 0  # Or handle the exception as needed"
   ]
  },
  {
   "cell_type": "code",
   "execution_count": 7,
   "metadata": {},
   "outputs": [],
   "source": [
    "def nbHisytoryTot(driver):\n",
    "    try:\n",
    "        search_results = driver.find_element(By.CSS_SELECTOR, 'div[class=\"row align-items-center gy-2 mb-4 pb-1 pb-sm-2 pb-lg-3\"]')\n",
    "        text_nb_hostory_tot = search_results.find_element(By.CSS_SELECTOR, 'h2[class=\"mb-lg-0\"]').text.split('(')[1].split(')')[0]\n",
    "        return int(text_nb_hostory_tot)\n",
    "\n",
    "    except Exception as e:\n",
    "        print(\"An error occurred in NB_OFFER:\", str(e))\n",
    "        return 0  # Or handle the exception as needed"
   ]
  },
  {
   "cell_type": "code",
   "execution_count": 11,
   "metadata": {},
   "outputs": [],
   "source": [
    "def Click(driver, pos):\n",
    "    '''Click on the link'''\n",
    "    try:\n",
    "        element = driver.find_elements(By.CSS_SELECTOR, 'a[class=\"btn btn-sm btn-primary mb-1\"]')[pos]\n",
    "        element.click()\n",
    "        return 1\n",
    "\n",
    "    except Exception as e:\n",
    "        print(\"An error occurred in CLICK:\", str(e))\n",
    "        return 0"
   ]
  },
  {
   "cell_type": "code",
   "execution_count": 17,
   "metadata": {},
   "outputs": [],
   "source": [
    "def ClickMoreHistory(driver):\n",
    "    '''Click on the link'''\n",
    "    try:\n",
    "        element = driver.find_element(By.ID, \"loadmorebtn\")\n",
    "        element.click()\n",
    "        return 1\n",
    "\n",
    "    except Exception as e:\n",
    "        print(\"An error occurred in CLICK:\", str(e))\n",
    "        return 0"
   ]
  },
  {
   "cell_type": "code",
   "execution_count": 109,
   "metadata": {},
   "outputs": [],
   "source": [
    "def GetDatas(driver, story):\n",
    "    time.sleep(3)\n",
    "    try:\n",
    "        age = driver.find_elements(By.CSS_SELECTOR, 'span[class=\"badge border border-light text-light fs-sm mb-1\"]')[1].text\n",
    "        title = driver.find_element(By.CSS_SELECTOR, 'h1[class=\"display-2 mb-4\"]').text\n",
    "        history = driver.find_element(By.CSS_SELECTOR, 'div[class=\"col-lg-9 col-xl-8\"]').find_element(By.CSS_SELECTOR, 'div[class=\"fs-lg\"]').get_attribute(\"outerHTML\")\n",
    "        accordion_question = driver.find_element(By.ID, \"collapseOne\")\n",
    "        question_histoire = []\n",
    "        all_questions = accordion_question.find_elements(By.CSS_SELECTOR, 'h3[class=\"lead\"]')\n",
    "        for i in range(0, len(all_questions)):\n",
    "            div_responses = accordion_question.find_elements(By.CSS_SELECTOR, 'div[class=\"card mb-4\"]')[i]\n",
    "            all_responses = div_responses.find_elements(By.CSS_SELECTOR, 'label[class=\"form-check-label\"]')\n",
    "            correction = driver.find_elements(By.CLASS_NAME, 'text-success')[i]\n",
    "            tab_response = []\n",
    "            for a in range(0, len(all_responses)):\n",
    "                tab_response.append(all_responses[a].text)\n",
    "            question_histoire.append({\n",
    "            \"question\"+ str(i+1): {\n",
    "                \"enonce\": accordion_question.find_elements(By.CSS_SELECTOR, 'h3[class=\"lead\"]')[i].text,\n",
    "                \"responses\": tab_response,\n",
    "                \"correction\": correction.get_attribute(\"id\").split('_')[2]\n",
    "            }})\n",
    "        accordion_glossaire = driver.find_element(By.ID, \"collapseTwo\").find_element(By.TAG_NAME, 'dl')\n",
    "        mots = accordion_glossaire.find_elements(By.TAG_NAME, 'dt')\n",
    "        defs = accordion_glossaire.find_elements(By.TAG_NAME, 'dd')\n",
    "        dictionnaire_glossaire = {}\n",
    "        for i in range(0, len(mots)):\n",
    "            dictionnaire_glossaire[mots[i].get_attribute(\"textContent\")] = defs[i].get_attribute(\"textContent\")\n",
    "        current_story = [age, title, history, question_histoire, dictionnaire_glossaire]\n",
    "        story.append(current_story)\n",
    "        f = open('history.txt', 'a')\n",
    "        f.write(str(current_story))\n",
    "        print(f'write job : {driver.current_url}')\n",
    "        f.write('\\n')\n",
    "        f.close()\n",
    "        return 1\n",
    "    except Exception as e:\n",
    "        print(f\"Error HTML PARSING: {e}\")"
   ]
  },
  {
   "cell_type": "code",
   "execution_count": 5,
   "metadata": {},
   "outputs": [],
   "source": [
    "driver = initialize_driver([\n",
    "    {\n",
    "        \"Accept\": \"text/html,application/xhtml+xml,application/xml;q=0.9,image/avif,image/webp,image/apng,*/*;q=0.8,application/signed-exchange;v=b3;q=0.9\",\n",
    "        \"Accept-Encoding\": \"gzip, deflate, br\",\n",
    "        \"Accept-Language\": \"en-US,en;q=0.9\",\n",
    "        \"Host\": \"httpbin.org\",\n",
    "        \"Sec-Ch-Ua\": \"\\\"Chromium\\\";v=\\\"92\\\", \\\" Not A;Brand\\\";v=\\\"99\\\", \\\"Google Chrome\\\";v=\\\"92\\\"\",\n",
    "        \"Sec-Ch-Ua-Mobile\": \"?0\",\n",
    "        \"Sec-Fetch-Dest\": \"document\",\n",
    "        \"Sec-Fetch-Mode\": \"navigate\",\n",
    "        \"Sec-Fetch-Site\": \"none\",\n",
    "        \"Sec-Fetch-User\": \"?1\",\n",
    "        \"Upgrade-Insecure-Requests\": \"1\",\n",
    "        \"User-Agent\": \"Mozilla/5.0 (Windows NT 10.0; Win64; x64) AppleWebKit/537.36 (KHTML, like Gecko) Chrome/91.0.4472.124 Safari/537.36\"\n",
    "    },\n",
    "    {\n",
    "        \"Accept\": \"text/html,application/xhtml+xml,application/xml;q=0.9,image/webp,*/*;q=0.8\",\n",
    "        \"Accept-Encoding\": \"gzip, deflate, br\",\n",
    "        \"Accept-Language\": \"en-US,en;q=0.5\",\n",
    "        \"Host\": \"httpbin.org\",\n",
    "        \"Sec-Fetch-Dest\": \"document\",\n",
    "        \"Sec-Fetch-Mode\": \"navigate\",\n",
    "        \"Sec-Fetch-Site\": \"none\",\n",
    "        \"Sec-Fetch-User\": \"?1\",\n",
    "        \"Upgrade-Insecure-Requests\": \"1\",\n",
    "        \"User-Agent\": \"Mozilla/5.0 (X11; Ubuntu; Linux x86_64; rv:90.0) Gecko/20100101 Firefox/90.0\"\n",
    "    },\n",
    "    {\n",
    "        \"Accept\": \"text/html,application/xhtml+xml,application/xml;q=0.9,image/webp,*/*;q=0.8\",\n",
    "        \"Accept-Encoding\": \"gzip, deflate, br\",\n",
    "        \"Accept-Language\": \"en-US,en;q=0.5\",\n",
    "        \"Host\": \"httpbin.org\",\n",
    "        \"Sec-Fetch-Dest\": \"document\",\n",
    "        \"Sec-Fetch-Mode\": \"navigate\",\n",
    "        \"Sec-Fetch-Site\": \"none\",\n",
    "        \"Sec-Fetch-User\": \"?1\",\n",
    "        \"Upgrade-Insecure-Requests\": \"1\",\n",
    "        \"User-Agent\": \"Mozilla/5.0 (iPhone; CPU iPhone OS 14_6 like Mac OS X) AppleWebKit/605.1.15 (KHTML, like Gecko) Version/14.0 Mobile/15E148 Safari/604.1\"\n",
    "    },\n",
    "    {\n",
    "        \"Accept\": \"text/html,application/xhtml+xml,application/xml;q=0.9,*/*;q=0.8\",\n",
    "        \"Accept-Encoding\": \"gzip, deflate, br\",\n",
    "        \"Accept-Language\": \"en-GB,en;q=0.5\",\n",
    "        \"Host\": \"httpbin.org\",\n",
    "        \"Sec-Fetch-Dest\": \"document\",\n",
    "        \"Sec-Fetch-Mode\": \"navigate\",\n",
    "        \"Sec-Fetch-Site\": \"none\",\n",
    "        \"Sec-Fetch-User\": \"?1\",\n",
    "        \"Upgrade-Insecure-Requests\": \"1\",\n",
    "        \"User-Agent\": \"Mozilla/5.0 (Windows NT 6.1; WOW64; rv:54.0) Gecko/20100101 Firefox/54.0\"\n",
    "    },\n",
    "    {\n",
    "        \"Accept\": \"text/html,application/xhtml+xml,application/xml;q=0.9,*/*;q=0.8\",\n",
    "        \"Accept-Encoding\": \"gzip, deflate, br\",\n",
    "        \"Accept-Language\": \"en-US,en;q=0.9\",\n",
    "        \"Host\": \"httpbin.org\",\n",
    "        \"Sec-Fetch-Dest\": \"document\",\n",
    "        \"Sec-Fetch-Mode\": \"navigate\",\n",
    "        \"Sec-Fetch-Site\": \"none\",\n",
    "        \"Sec-Fetch-User\": \"?1\",\n",
    "        \"Upgrade-Insecure-Requests\": \"1\",\n",
    "        \"User-Agent\": \"Mozilla/5.0 (Macintosh; Intel Mac OS X 10_14_6) AppleWebKit/605.1.15 (KHTML, like Gecko) Version/12.1.2 Safari/605.1.15\"\n",
    "    }\n",
    "], [False])"
   ]
  },
  {
   "cell_type": "code",
   "execution_count": 6,
   "metadata": {},
   "outputs": [],
   "source": [
    "MainPage(driver, r\"https://www.meshistoiresdusoir.fr/g/histoires-fantastiques/\")"
   ]
  },
  {
   "cell_type": "code",
   "execution_count": 120,
   "metadata": {},
   "outputs": [],
   "source": [
    "nbHisytoryTotVar = nbHisytoryTot(driver)"
   ]
  },
  {
   "cell_type": "code",
   "execution_count": 119,
   "metadata": {},
   "outputs": [],
   "source": [
    "nbHisytoryByPageVar = nbHisytoryByPage(driver)"
   ]
  },
  {
   "cell_type": "code",
   "execution_count": 12,
   "metadata": {},
   "outputs": [
    {
     "data": {
      "text/plain": [
       "1"
      ]
     },
     "execution_count": 12,
     "metadata": {},
     "output_type": "execute_result"
    }
   ],
   "source": [
    "Click(driver, 0)"
   ]
  },
  {
   "cell_type": "code",
   "execution_count": 117,
   "metadata": {},
   "outputs": [
    {
     "data": {
      "text/plain": [
       "1"
      ]
     },
     "execution_count": 117,
     "metadata": {},
     "output_type": "execute_result"
    }
   ],
   "source": [
    "ClickMoreHistory(driver)"
   ]
  },
  {
   "cell_type": "code",
   "execution_count": 118,
   "metadata": {},
   "outputs": [
    {
     "data": {
      "text/plain": [
       "36"
      ]
     },
     "execution_count": 118,
     "metadata": {},
     "output_type": "execute_result"
    }
   ],
   "source": [
    "nbHisytoryByPage(driver)"
   ]
  },
  {
   "cell_type": "code",
   "execution_count": 121,
   "metadata": {},
   "outputs": [],
   "source": [
    "nb_page = nbHisytoryTotVar // nbHisytoryByPageVar\n",
    "if nbHisytoryTotVar % nbHisytoryByPageVar != 0:\n",
    "    nb_page = nb_page + 1"
   ]
  },
  {
   "cell_type": "code",
   "execution_count": 122,
   "metadata": {},
   "outputs": [
    {
     "data": {
      "text/plain": [
       "39"
      ]
     },
     "execution_count": 122,
     "metadata": {},
     "output_type": "execute_result"
    }
   ],
   "source": [
    "nb_page"
   ]
  },
  {
   "cell_type": "code",
   "execution_count": null,
   "metadata": {},
   "outputs": [],
   "source": [
    "story = []\n",
    "nb_history_page_init = nbHisytoryByPage(driver)\n",
    "for a in range(0, nb_page - 1):\n",
    "    nb_history_page = nbHisytoryByPage(driver)\n",
    "    for i in range((a * nb_history_page_init), nb_history_page):\n",
    "        Click(driver, (i)\n",
    "        GetDatas(driver, story)\n",
    "        driver.back()\n",
    "    time.sleep(3)\n",
    "    ClickMoreHistory(driver)"
   ]
  },
  {
   "cell_type": "code",
   "execution_count": 108,
   "metadata": {},
   "outputs": [
    {
     "name": "stdout",
     "output_type": "stream",
     "text": [
      "épreuves\n",
      "0\n",
      "Des difficultés ou des défis à surmonter.\n",
      "épreuves\n",
      "1\n",
      "Une femme dotée de pouvoirs magiques, parfois considérée comme maléfique.\n",
      "Sorcière\n",
      "2\n",
      "Personne qui excelle dans un domaine particulier.\n",
      "Maître\n",
      "3\n",
      "Pièges ou obstacles qui rendent la progression difficile.\n",
      "Embûches\n",
      "4\n",
      "La volonté de ne pas abandonner face à l'adversité.\n",
      "Détermination\n",
      "5\n",
      "Le fait de s'unir avec d'autres pour atteindre un objectif commun.\n",
      "Alliance\n",
      "write job : https://www.meshistoiresdusoir.fr/h/les-protecteurs-de-lombre/\n"
     ]
    },
    {
     "data": {
      "text/plain": [
       "1"
      ]
     },
     "execution_count": 108,
     "metadata": {},
     "output_type": "execute_result"
    }
   ],
   "source": [
    "story = []\n",
    "GetDatas(driver, story)"
   ]
  }
 ],
 "metadata": {
  "kernelspec": {
   "display_name": "Python 3",
   "language": "python",
   "name": "python3"
  },
  "language_info": {
   "codemirror_mode": {
    "name": "ipython",
    "version": 3
   },
   "file_extension": ".py",
   "mimetype": "text/x-python",
   "name": "python",
   "nbconvert_exporter": "python",
   "pygments_lexer": "ipython3",
   "version": "3.9.13"
  }
 },
 "nbformat": 4,
 "nbformat_minor": 2
}
