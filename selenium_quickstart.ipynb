{
 "cells": [
  {
   "cell_type": "code",
   "execution_count": 86,
   "metadata": {},
   "outputs": [],
   "source": [
    "import os\n",
    "#set your environment variable for SSL certificate\n",
    "certi_path = r\"C:\\Users\\bertr\\AppData\\Local\\Programs\\Python\\Python39\\Lib\\site-packages\\pip\\_vendor\\certifi\\cacert.pem\"\n",
    "os.environ['REQUESTS_CA_BUNDLE'] = certi_path\n",
    "from selenium.webdriver.common.by import By\n",
    "from selenium import webdriver\n",
    "from selenium.webdriver.chrome.service import Service\n",
    "from webdriver_manager.chrome import ChromeDriverManager\n",
    "from selenium.webdriver.chrome.options import Options\n",
    "\n",
    "#init proxy\n",
    "#from fp.fp import FreeProxy\n",
    "import requests\n",
    "from bs4 import BeautifulSoup\n",
    "#proxy = FreeProxy(country_id=['EN']).get()\n",
    "\n",
    "# Initialize Chrome options\n",
    "options = Options()\n",
    "#options.add_argument(\"user-agent=Mozilla/5.0 (Windows NT 10.0; Win64; x64) AppleWebKit/537.36 (KHTML, like Gecko) Chrome/58.0.3029.110 Safari/537.3\")\n",
    "#disable the browser\n",
    "#options.add_argument(\"--headless\")\n",
    "options.add_argument(\"--disable-extensions\")\n",
    "options.add_argument(\"--ignore-certificate-errors\")\n",
    "#options.add_argument(f'--proxy-server={proxy}')\n",
    "\n",
    "# Initialize Chrome WebDriver with the specified options\n",
    "service = Service(ChromeDriverManager().install())\n",
    "driver = webdriver.Chrome(service=service, options=options)\n",
    "\n",
    "\n",
    "# waits up to 10 seconds before throwing a NoSuchElementException\n",
    "driver.implicitly_wait(10)"
   ]
  },
  {
   "cell_type": "code",
   "execution_count": 44,
   "metadata": {},
   "outputs": [
    {
     "data": {
      "text/plain": [
       "'http://82.64.77.30:80'"
      ]
     },
     "execution_count": 44,
     "metadata": {},
     "output_type": "execute_result"
    }
   ],
   "source": [
    "proxy"
   ]
  },
  {
   "cell_type": "code",
   "execution_count": 88,
   "metadata": {},
   "outputs": [
    {
     "name": "stdout",
     "output_type": "stream",
     "text": [
      "{'title': 'Dyson Cyclone v10 Vacuum, Blue', 'image_url': 'https://m.media-amazon.com/images/I/51UXR6Dn7cL._AC_SX450_.jpg'}\n"
     ]
    }
   ],
   "source": [
    "from selenium.webdriver.common.by import By\n",
    "\n",
    "driver.get(\"https://www.amazon.com/Dyson-V10-Allergy-Cordless-Cleaner/dp/B095LD5SWQ/\")\n",
    "\n",
    "title = driver.find_element(By.XPATH, value='//span[@id=\"productTitle\"]')\n",
    "#current_price = driver.find_element(By.XPATH, value='//div[@id=\"corePriceDisplay_desktop_feature_div\"]//span[@class=\"aok-offscreen\"]')\n",
    "image = driver.find_element(By.XPATH, value='//div[@id=\"imgTagWrapperId\"]/img')\n",
    "\n",
    "product_data = {\n",
    "    'title': title.text,\n",
    "    #'current_price': current_price.get_attribute('innerHTML'),\n",
    "    'image_url': image.get_attribute('src')\n",
    "}\n",
    "\n",
    "print(product_data)\n",
    "driver.quit()"
   ]
  },
  {
   "cell_type": "code",
   "execution_count": 65,
   "metadata": {},
   "outputs": [
    {
     "data": {
      "text/plain": [
       "True"
      ]
     },
     "execution_count": 65,
     "metadata": {},
     "output_type": "execute_result"
    }
   ],
   "source": [
    "driver.save_screenshot('screenshot.png')"
   ]
  },
  {
   "cell_type": "code",
   "execution_count": 67,
   "metadata": {},
   "outputs": [],
   "source": [
    "javaScript = \"window.scrollBy(0, 1000);\"\n",
    "driver.execute_script(javaScript)"
   ]
  },
  {
   "cell_type": "code",
   "execution_count": 68,
   "metadata": {},
   "outputs": [],
   "source": [
    "javaScript = \"document.querySelectorAll('a').forEach(e => e.style.border='red 2px solid')\"\n",
    "driver.execute_script(javaScript)"
   ]
  },
  {
   "cell_type": "code",
   "execution_count": 69,
   "metadata": {},
   "outputs": [],
   "source": [
    "title = driver.execute_script('return document.title')"
   ]
  },
  {
   "cell_type": "code",
   "execution_count": 81,
   "metadata": {},
   "outputs": [],
   "source": [
    "from selenium import webdriver\n",
    "\n",
    "# Options Chrome\n",
    "chrome_options = webdriver.ChromeOptions()\n",
    "\n",
    "# Bloquer les images et JavaScript\n",
    "chrome_prefs = {\n",
    "    \"profile.default_content_setting_values\": {\n",
    "        \"images\": 2,\n",
    "        \"javascript\": 2,\n",
    "    }\n",
    "}\n",
    "chrome_options.experimental_options[\"prefs\"] = chrome_prefs\n",
    "\n",
    "# Initialiser le WebDriver Chrome sans spécifier le chemin de l'exécutable\n",
    "driver = webdriver.Chrome(options=chrome_options)\n",
    "driver.get(\"https://www.amazon.com/Dyson-V10-Allergy-Cordless-Cleaner/dp/B095LD5SWQ/\")"
   ]
  },
  {
   "cell_type": "code",
   "execution_count": 71,
   "metadata": {},
   "outputs": [],
   "source": [
    "from selenium import webdriver\n",
    "from selenium.webdriver.common.by import By\n",
    "import time \n",
    "\n",
    "# Your login credentials\n",
    "password = \"Password123\"\n",
    "username = \"student\"\n",
    "\n",
    "driver.get(\"https://practicetestautomation.com/practice-test-login/\")\n",
    "\n",
    "#find the username input field and enter the specified username\n",
    "username_input = driver.find_element(by=By.ID, value=\"username\")\n",
    "username_input.send_keys(username)\n",
    "\n",
    "#find the password input field and enter the specified password\n",
    "password_input = driver.find_element(by=By.ID, value=\"password\")\n",
    "password_input.send_keys(password)\n",
    "\n",
    "#find the form's submit button and click it\n",
    "submit_button = driver.find_element(by=By.ID, value=\"submit\")\n",
    "submit_button.click()\n",
    "\n",
    "#wait for the new page to load\n",
    "time.sleep(3)"
   ]
  },
  {
   "cell_type": "code",
   "execution_count": 72,
   "metadata": {},
   "outputs": [
    {
     "name": "stdout",
     "output_type": "stream",
     "text": [
      "https://practicetestautomation.com/logged-in-successfully/\n",
      "Test case passed according to https://practicetestautomation.com/practice-test-login/ specifications\n"
     ]
    }
   ],
   "source": [
    "from selenium import webdriver\n",
    "from selenium.webdriver.common.by import By\n",
    "import time \n",
    "\n",
    "# Your login credentials\n",
    "password = \"Password123\"\n",
    "username = \"student\"\n",
    "\n",
    "driver.get(\"https://practicetestautomation.com/practice-test-login/\")\n",
    "\n",
    "#find the username input field and enter the specified username\n",
    "username_input = driver.find_element(by=By.ID, value=\"username\")\n",
    "username_input.send_keys(username)\n",
    "\n",
    "#find the password input field and enter the specified password\n",
    "password_input = driver.find_element(by=By.ID, value=\"password\")\n",
    "password_input.send_keys(password)\n",
    "\n",
    "#find the form's submit button and click it\n",
    "submit_button = driver.find_element(by=By.ID, value=\"submit\")\n",
    "submit_button.click()\n",
    "\n",
    "#wait for the new page to load\n",
    "time.sleep(3)\n",
    "\n",
    "#verify new page URL\n",
    "print(driver.current_url)\n",
    "assert \"practicetestautomation.com/logged-in-successfully/\" in driver.current_url, \"URL check failed\"\n",
    "\n",
    "# Verify page contains expected text\n",
    "page_text = driver.find_element(by=By.TAG_NAME, value=\"body\").text\n",
    "assert \"Congratulations\" in page_text or \"Logged In Successfully\" in page_text, \"Text check failed\"\n",
    "\n",
    "# Verify Log out button is displayed\n",
    "logout_button = driver.find_element(by=By.XPATH, value=\"//a[contains(text(), 'Log out')]\")\n",
    "assert logout_button.is_displayed(), \"Log out button not displayed\"\n",
    "\n",
    "print(\"Test case passed according to https://practicetestautomation.com/practice-test-login/ specifications\")"
   ]
  }
 ],
 "metadata": {
  "kernelspec": {
   "display_name": "Python 3",
   "language": "python",
   "name": "python3"
  },
  "language_info": {
   "codemirror_mode": {
    "name": "ipython",
    "version": 3
   },
   "file_extension": ".py",
   "mimetype": "text/x-python",
   "name": "python",
   "nbconvert_exporter": "python",
   "pygments_lexer": "ipython3",
   "version": "3.9.13"
  }
 },
 "nbformat": 4,
 "nbformat_minor": 2
}
