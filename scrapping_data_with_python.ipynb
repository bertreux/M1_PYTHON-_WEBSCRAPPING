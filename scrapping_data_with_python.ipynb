{
 "cells": [
  {
   "cell_type": "code",
   "execution_count": 2,
   "id": "04b0b997",
   "metadata": {},
   "outputs": [],
   "source": [
    "import requests\n",
    "import pandas as pd"
   ]
  },
  {
   "cell_type": "code",
   "execution_count": 3,
   "id": "7d29e94d",
   "metadata": {},
   "outputs": [
    {
     "data": {
      "text/plain": [
       "<Response [200]>"
      ]
     },
     "execution_count": 3,
     "metadata": {},
     "output_type": "execute_result"
    }
   ],
   "source": [
    "# simple request on webpage\n",
    "page = requests.get(\"http://dataquestio.github.io/web-scraping-pages/simple.html\")\n",
    "page"
   ]
  },
  {
   "cell_type": "code",
   "execution_count": 4,
   "id": "5f7330cb",
   "metadata": {},
   "outputs": [
    {
     "name": "stdout",
     "output_type": "stream",
     "text": [
      "b'<!DOCTYPE html>\\n<html>\\n    <head>\\n        <title>A simple example page</title>\\n    </head>\\n    <body>\\n        <p>Here is some simple content for this page.</p>\\n    </body>\\n</html>'\n"
     ]
    }
   ],
   "source": [
    "print(page.content)"
   ]
  },
  {
   "cell_type": "code",
   "execution_count": 5,
   "id": "6132c22a",
   "metadata": {},
   "outputs": [
    {
     "data": {
      "text/plain": [
       "['<!DOCTYPE html>',\n",
       " '<html>',\n",
       " '    <head>',\n",
       " '        <title>A simple example page</title>',\n",
       " '    </head>',\n",
       " '    <body>',\n",
       " '        <p>Here is some simple content for this page.</p>',\n",
       " '    </body>',\n",
       " '</html>']"
      ]
     },
     "execution_count": 5,
     "metadata": {},
     "output_type": "execute_result"
    }
   ],
   "source": [
    "#formating \n",
    "page.text.split(\"\\n\")"
   ]
  },
  {
   "cell_type": "code",
   "execution_count": 6,
   "id": "f108fb6c",
   "metadata": {},
   "outputs": [
    {
     "name": "stdout",
     "output_type": "stream",
     "text": [
      "File 'example.txt' was not found and has been created.\n"
     ]
    }
   ],
   "source": [
    "# Attempt to read from a file\n",
    "try:\n",
    "    with open('example.txt', 'r') as file:\n",
    "        content = file.read()\n",
    "        print(content)\n",
    "except FileNotFoundError:\n",
    "    # If the file does not exist, create it and write a default message\n",
    "    with open('example.txt', 'w') as file:\n",
    "        file.write(\"This is a new file.\")\n",
    "        print(\"File 'example.txt' was not found and has been created.\")\n"
   ]
  },
  {
   "cell_type": "code",
   "execution_count": 7,
   "id": "4ff61270",
   "metadata": {},
   "outputs": [
    {
     "name": "stdout",
     "output_type": "stream",
     "text": [
      "This is a new file.\n"
     ]
    }
   ],
   "source": [
    "with open('example.txt', 'r') as file:\n",
    "    content = file.read()\n",
    "    print(content)"
   ]
  },
  {
   "cell_type": "code",
   "execution_count": 10,
   "id": "18f85b09",
   "metadata": {},
   "outputs": [
    {
     "name": "stdout",
     "output_type": "stream",
     "text": [
      ".ipynb_checkpoints\n",
      "example.txt\n",
      "scrapping_data_with_python.ipynb\n"
     ]
    }
   ],
   "source": [
    "import os\n",
    "#list all files in a directory\n",
    "for file in os.listdir(r'C:\\Users\\bertr\\Documents\\h3hitema\\M1\\python_web_scrapping'):\n",
    "    print(file)"
   ]
  },
  {
   "cell_type": "code",
   "execution_count": 11,
   "id": "b78b94d8",
   "metadata": {},
   "outputs": [
    {
     "name": "stdout",
     "output_type": "stream",
     "text": [
      "This is a new file.\n"
     ]
    }
   ],
   "source": [
    "with open('example.txt', 'r', encoding='utf-8') as file:\n",
    "    content = file.read()\n",
    "    print(content)"
   ]
  },
  {
   "cell_type": "code",
   "execution_count": 13,
   "id": "c9f91795",
   "metadata": {},
   "outputs": [],
   "source": [
    "import json \n",
    "\n",
    "data = [\n",
    "    {\n",
    "        \"name\": \"Alice Brown\",\n",
    "        \"department\": \"Marketing\",\n",
    "        \"salary\": 70000\n",
    "    },\n",
    "    {\n",
    "        \"name\": \"Bob Smith\",\n",
    "        \"department\": \"Sales\",\n",
    "        \"salary\": 65000\n",
    "    },\n",
    "    {\n",
    "        \"name\": \"Carol Jones\",\n",
    "        \"department\": \"IT\",\n",
    "        \"salary\": 75000\n",
    "    }\n",
    "]\n",
    "\n",
    "#write this variable inside a json file\n",
    "with open('output.json', 'w') as file:\n",
    "    json.dump(data, file, indent=4)"
   ]
  },
  {
   "cell_type": "code",
   "execution_count": 14,
   "id": "942501e4",
   "metadata": {},
   "outputs": [
    {
     "name": "stdout",
     "output_type": "stream",
     "text": [
      "[{'name': 'Alice Brown', 'department': 'Marketing', 'salary': 70000}, {'name': 'Bob Smith', 'department': 'Sales', 'salary': 65000}, {'name': 'Carol Jones', 'department': 'IT', 'salary': 75000}]\n"
     ]
    }
   ],
   "source": [
    "#then read the data\n",
    "with open('output.json', 'r') as file:\n",
    "    data = json.load(file)\n",
    "    print(data)"
   ]
  },
  {
   "cell_type": "code",
   "execution_count": 15,
   "id": "fa6c85b3",
   "metadata": {},
   "outputs": [],
   "source": [
    "import time\n",
    "import requests\n",
    "import csv\n",
    "from io import StringIO"
   ]
  },
  {
   "cell_type": "code",
   "execution_count": 16,
   "id": "bf89c895",
   "metadata": {},
   "outputs": [
    {
     "name": "stdout",
     "output_type": "stream",
     "text": [
      "CPU times: total: 0 ns\n",
      "Wall time: 0 ns\n",
      "Traditional approach took: 0.015854358673095703 seconds\n"
     ]
    }
   ],
   "source": [
    "%time\n",
    "def csv_reader(file_content):\n",
    "    return csv.reader(StringIO(file_content))\n",
    "\n",
    "# Fetch the file content from the URL\n",
    "url = 'https://gist.githubusercontent.com/bdallard/d4a3e247e8a739a329fd518c0860f8a8/raw/82fb43adc5ce022797a5df21eb06dd8e755145ea/data-json.csv'\n",
    "response = requests.get(url)\n",
    "file_content = response.text\n",
    "\n",
    "tmp=0\n",
    "start_time = time.time()\n",
    "csv_data = csv_reader(file_content)\n",
    "for row in csv_data:\n",
    "    tmp+=int(row[0][-1]) #some dummy operation\n",
    "end_time = time.time()\n",
    "\n",
    "print(\"Traditional approach took:\", end_time - start_time, \"seconds\")"
   ]
  },
  {
   "cell_type": "code",
   "execution_count": 17,
   "id": "14aa665c",
   "metadata": {},
   "outputs": [
    {
     "name": "stdout",
     "output_type": "stream",
     "text": [
      "CPU times: total: 0 ns\n",
      "Wall time: 0 ns\n",
      "Generator approach took: 0.01596522331237793 seconds\n"
     ]
    }
   ],
   "source": [
    "%time\n",
    "def csv_reader_gen(file_content):\n",
    "    for row in csv.reader(StringIO(file_content)):\n",
    "        yield row\n",
    "\n",
    "# Fetch the file content from the URL\n",
    "url = \"https://gist.githubusercontent.com/bdallard/d4a3e247e8a739a329fd518c0860f8a8/raw/82fb43adc5ce022797a5df21eb06dd8e755145ea/data-json.csv\"\n",
    "response = requests.get(url)\n",
    "file_content = response.text\n",
    "\n",
    "tmp=0\n",
    "start_time = time.time()\n",
    "csv_gen = csv_reader_gen(file_content)\n",
    "for row in csv_gen:\n",
    "    tmp+=int(row[0][-1]) #some dummy operation\n",
    "end_time = time.time()\n",
    "\n",
    "print(\"Generator approach took:\", end_time - start_time, \"seconds\")"
   ]
  },
  {
   "cell_type": "code",
   "execution_count": 18,
   "id": "16d27360",
   "metadata": {},
   "outputs": [],
   "source": [
    "response = requests.get('http://httpbin.org/ip') \n",
    "#print(response.json()['origin']) #your personnal ip"
   ]
  },
  {
   "cell_type": "code",
   "execution_count": 20,
   "id": "ab501931",
   "metadata": {},
   "outputs": [
    {
     "name": "stdout",
     "output_type": "stream",
     "text": [
      "Collecting free-proxy\n",
      "  Downloading free_proxy-1.1.1.tar.gz (5.1 kB)\n",
      "  Preparing metadata (setup.py): started\n",
      "  Preparing metadata (setup.py): finished with status 'done'\n",
      "Requirement already satisfied: lxml in c:\\users\\bertr\\anaconda3\\lib\\site-packages (from free-proxy) (4.9.3)\n",
      "Requirement already satisfied: requests in c:\\users\\bertr\\anaconda3\\lib\\site-packages (from free-proxy) (2.31.0)\n",
      "Requirement already satisfied: charset-normalizer<4,>=2 in c:\\users\\bertr\\anaconda3\\lib\\site-packages (from requests->free-proxy) (2.0.4)\n",
      "Requirement already satisfied: idna<4,>=2.5 in c:\\users\\bertr\\anaconda3\\lib\\site-packages (from requests->free-proxy) (3.4)\n",
      "Requirement already satisfied: urllib3<3,>=1.21.1 in c:\\users\\bertr\\anaconda3\\lib\\site-packages (from requests->free-proxy) (1.26.16)\n",
      "Requirement already satisfied: certifi>=2017.4.17 in c:\\users\\bertr\\anaconda3\\lib\\site-packages (from requests->free-proxy) (2023.11.17)\n",
      "Building wheels for collected packages: free-proxy\n",
      "  Building wheel for free-proxy (setup.py): started\n",
      "  Building wheel for free-proxy (setup.py): finished with status 'done'\n",
      "  Created wheel for free-proxy: filename=free_proxy-1.1.1-py3-none-any.whl size=5663 sha256=b4aacfaa4fdca28babed3740ef843102156f8aa4e1377b45c654768a5f358d84\n",
      "  Stored in directory: c:\\users\\bertr\\appdata\\local\\pip\\cache\\wheels\\c6\\7f\\3f\\b764995ae2502d8642977764577198043d3b6c6738534f5ffe\n",
      "Successfully built free-proxy\n",
      "Installing collected packages: free-proxy\n",
      "Successfully installed free-proxy-1.1.1\n"
     ]
    }
   ],
   "source": [
    "!pip install free-proxy"
   ]
  },
  {
   "cell_type": "code",
   "execution_count": 21,
   "id": "18285891",
   "metadata": {},
   "outputs": [],
   "source": [
    "from fp.fp import FreeProxy\n",
    "import requests\n",
    "from bs4 import BeautifulSoup"
   ]
  },
  {
   "cell_type": "code",
   "execution_count": 23,
   "id": "6f41881c",
   "metadata": {},
   "outputs": [
    {
     "data": {
      "text/plain": [
       "'http://82.64.77.30:80'"
      ]
     },
     "execution_count": 23,
     "metadata": {},
     "output_type": "execute_result"
    }
   ],
   "source": [
    "proxy = FreeProxy(country_id=['FR']).get(); proxy"
   ]
  },
  {
   "cell_type": "code",
   "execution_count": 24,
   "id": "9c0080cb",
   "metadata": {},
   "outputs": [
    {
     "data": {
      "text/plain": [
       "['http://159.65.77.168:8585',\n",
       " 'http://66.45.246.194:8888',\n",
       " 'http://51.89.14.70:80']"
      ]
     },
     "execution_count": 24,
     "metadata": {},
     "output_type": "execute_result"
    }
   ],
   "source": [
    "proxy_list = [FreeProxy(country_id=['FR']).get() for x in range(3)]; proxy_list"
   ]
  },
  {
   "cell_type": "code",
   "execution_count": 26,
   "id": "db3008ab",
   "metadata": {},
   "outputs": [
    {
     "name": "stdout",
     "output_type": "stream",
     "text": [
      "66.45.246.194\n"
     ]
    }
   ],
   "source": [
    "proxies = {'http': proxy_list[1]} \n",
    "response = requests.get('http://httpbin.org/ip', proxies=proxies) \n",
    "print(response.json()['origin']) # our proxy !!"
   ]
  },
  {
   "cell_type": "code",
   "execution_count": 27,
   "id": "d75982cf",
   "metadata": {},
   "outputs": [
    {
     "name": "stdout",
     "output_type": "stream",
     "text": [
      "{'Accept': '*/*', 'Accept-Encoding': 'gzip, deflate, br', 'Host': 'httpbin.org', 'User-Agent': 'python-requests/2.31.0', 'X-Amzn-Trace-Id': 'Root=1-66014e54-1704ed6638ecc9b338673c66'}\n"
     ]
    }
   ],
   "source": [
    "response = requests.get('http://httpbin.org/headers') \n",
    "print(response.json()['headers'])"
   ]
  },
  {
   "cell_type": "code",
   "execution_count": 28,
   "id": "b0675d0c",
   "metadata": {},
   "outputs": [
    {
     "name": "stdout",
     "output_type": "stream",
     "text": [
      "{\n",
      "  \"headers\": {\n",
      "    \"Accept\": \"*/*\", \n",
      "    \"Host\": \"httpbin.org\", \n",
      "    \"User-Agent\": \"curl/8.1.1\", \n",
      "    \"X-Amzn-Trace-Id\": \"Root=1-66014e68-41ba3dbd18b865dc4bc96c77\"\n",
      "  }\n",
      "}\n"
     ]
    },
    {
     "name": "stderr",
     "output_type": "stream",
     "text": [
      "  % Total    % Received % Xferd  Average Speed   Time    Time     Time  Current\n",
      "                                 Dload  Upload   Total   Spent    Left  Speed\n",
      "\n",
      "  0     0    0     0    0     0      0      0 --:--:-- --:--:-- --:--:--     0\n",
      "100   172  100   172    0     0    660      0 --:--:-- --:--:-- --:--:--   666\n"
     ]
    }
   ],
   "source": [
    "!curl http://httpbin.org/headers"
   ]
  },
  {
   "cell_type": "code",
   "execution_count": 29,
   "id": "1774e48f",
   "metadata": {},
   "outputs": [
    {
     "name": "stdout",
     "output_type": "stream",
     "text": [
      "Mozilla/5.0 (X11; Linux x86_64) AppleWebKit/537.36 (KHTML, like Gecko) Chrome/88.0.4324.96 Safari/537.36\n"
     ]
    }
   ],
   "source": [
    "#try a custom user-agent\n",
    "headers = {\"User-Agent\": \"Mozilla/5.0 (X11; Linux x86_64) AppleWebKit/537.36 (KHTML, like Gecko) Chrome/88.0.4324.96 Safari/537.36\"} \n",
    "response = requests.get('http://httpbin.org/headers', headers=headers) \n",
    "print(response.json()['headers']['User-Agent']) # Mozilla/5.0 ..."
   ]
  },
  {
   "cell_type": "code",
   "execution_count": 30,
   "id": "3340a0e4",
   "metadata": {},
   "outputs": [
    {
     "name": "stdout",
     "output_type": "stream",
     "text": [
      "Mozilla/5.0 (Windows NT 10.0; Win64; x64) AppleWebKit/604.1.34 (KHTML, like Gecko) Edge/90.0.818.56\n"
     ]
    }
   ],
   "source": [
    "#more user-agent, thanks chatgpt 🤓\n",
    "import random\n",
    "user_agents = [\n",
    "    'Mozilla/5.0 (Windows NT 10.0; Win64; x64) AppleWebKit/537.36 (KHTML, like Gecko) Chrome/91.0.4472.124 Safari/537.36',\n",
    "    'Mozilla/5.0 (X11; Linux x86_64) AppleWebKit/537.36 (KHTML, like Gecko) Chrome/92.0.4515.107 Safari/537.36',\n",
    "    'Mozilla/5.0 (Windows NT 10.0; Win64; x64) AppleWebKit/537.36 (KHTML, like Gecko) Chrome/90.0.4430.212 Safari/537.36',\n",
    "    'Mozilla/5.0 (iPhone; CPU iPhone OS 12_2 like Mac OS X) AppleWebKit/605.1.15 (KHTML, like Gecko) Mobile/15E148',\n",
    "    'Mozilla/5.0 (Linux; Android 11; SM-G960U) AppleWebKit/537.36 (KHTML, like Gecko) Chrome/89.0.4389.72 Mobile Safari/537.36',\n",
    "    'Mozilla/5.0 (Macintosh; Intel Mac OS X 10_15_7) AppleWebKit/537.36 (KHTML, like Gecko) Chrome/91.0.4472.114 Safari/537.36',\n",
    "    'Mozilla/5.0 (Windows NT 10.0; Win64; x64; rv:89.0) Gecko/20100101 Firefox/89.0',\n",
    "    'Mozilla/5.0 (iPad; CPU OS 13_5 like Mac OS X) AppleWebKit/605.1.15 (KHTML, like Gecko) Version/13.1.1 Mobile/15E148 Safari/604.1',\n",
    "    'Mozilla/5.0 (Windows NT 10.0; Win64; x64) AppleWebKit/604.1.34 (KHTML, like Gecko) Edge/90.0.818.56',\n",
    "    'Mozilla/5.0 (Linux; Android 10; SM-A505FN) AppleWebKit/537.36 (KHTML, like Gecko) Chrome/89.0.4389.82 Mobile Safari/537.36',\n",
    "    'Mozilla/5.0 (Macintosh; Intel Mac OS X 10_15_7) AppleWebKit/605.1.15 (KHTML, like Gecko) Version/14.0.3 Safari/605.1.15',\n",
    "    'Mozilla/5.0 (Linux; Android 11; Pixel 3) AppleWebKit/537.36 (KHTML, like Gecko) Chrome/91.0.4472.101 Mobile Safari/537.36',\n",
    "    'Mozilla/5.0 (Windows NT 6.1; WOW64; Trident/7.0; rv:11.0) like Gecko',\n",
    "    'Mozilla/5.0 (iPhone; CPU iPhone OS 14_6 like Mac OS X) AppleWebKit/605.1.15 (KHTML, like Gecko) Version/14.0 Mobile/15E148 Safari/604.1',\n",
    "    'Mozilla/5.0 (X11; Ubuntu; Linux x86_64; rv:88.0) Gecko/20100101 Firefox/88.0'\n",
    "]\n",
    "\n",
    "user_agent = random.choice(user_agents) \n",
    "headers = {'User-Agent': user_agent} \n",
    "response = requests.get('https://httpbin.org/headers', headers=headers) \n",
    "print(response.json()['headers']['User-Agent']) \n",
    "# Mozilla/5.0 (iPhone; CPU iPhone OS 12_2 like Mac OS X) ..."
   ]
  },
  {
   "cell_type": "code",
   "execution_count": 31,
   "id": "a83ec432",
   "metadata": {},
   "outputs": [
    {
     "name": "stdout",
     "output_type": "stream",
     "text": [
      "{'Accept': 'text/html,application/xhtml+xml,application/xml;q=0.9,image/webp,*/*;q=0.8', 'Accept-Encoding': 'gzip, deflate, br', 'Accept-Language': 'en-US,en;q=0.5', 'Host': 'httpbin.org', 'Sec-Fetch-Dest': 'document', 'Sec-Fetch-Mode': 'navigate', 'Sec-Fetch-Site': 'none', 'Sec-Fetch-User': '?1', 'Upgrade-Insecure-Requests': '1', 'User-Agent': 'Mozilla/5.0 (iPhone; CPU iPhone OS 14_6 like Mac OS X) AppleWebKit/605.1.15 (KHTML, like Gecko) Version/14.0 Mobile/15E148 Safari/604.1', 'X-Amzn-Trace-Id': 'Root=1-66014ebd-7dfee7171714fb801716d755'}\n"
     ]
    }
   ],
   "source": [
    "headers_list = [\n",
    "    {\n",
    "        \"Accept\": \"text/html,application/xhtml+xml,application/xml;q=0.9,image/avif,image/webp,image/apng,*/*;q=0.8,application/signed-exchange;v=b3;q=0.9\",\n",
    "        \"Accept-Encoding\": \"gzip, deflate, br\",\n",
    "        \"Accept-Language\": \"en-US,en;q=0.9\",\n",
    "        \"Host\": \"httpbin.org\",\n",
    "        \"Sec-Ch-Ua\": \"\\\"Chromium\\\";v=\\\"92\\\", \\\" Not A;Brand\\\";v=\\\"99\\\", \\\"Google Chrome\\\";v=\\\"92\\\"\",\n",
    "        \"Sec-Ch-Ua-Mobile\": \"?0\",\n",
    "        \"Sec-Fetch-Dest\": \"document\",\n",
    "        \"Sec-Fetch-Mode\": \"navigate\",\n",
    "        \"Sec-Fetch-Site\": \"none\",\n",
    "        \"Sec-Fetch-User\": \"?1\",\n",
    "        \"Upgrade-Insecure-Requests\": \"1\",\n",
    "        \"User-Agent\": \"Mozilla/5.0 (Windows NT 10.0; Win64; x64) AppleWebKit/537.36 (KHTML, like Gecko) Chrome/91.0.4472.124 Safari/537.36\"\n",
    "    },\n",
    "    {\n",
    "        \"Accept\": \"text/html,application/xhtml+xml,application/xml;q=0.9,image/webp,*/*;q=0.8\",\n",
    "        \"Accept-Encoding\": \"gzip, deflate, br\",\n",
    "        \"Accept-Language\": \"en-US,en;q=0.5\",\n",
    "        \"Host\": \"httpbin.org\",\n",
    "        \"Sec-Fetch-Dest\": \"document\",\n",
    "        \"Sec-Fetch-Mode\": \"navigate\",\n",
    "        \"Sec-Fetch-Site\": \"none\",\n",
    "        \"Sec-Fetch-User\": \"?1\",\n",
    "        \"Upgrade-Insecure-Requests\": \"1\",\n",
    "        \"User-Agent\": \"Mozilla/5.0 (X11; Ubuntu; Linux x86_64; rv:90.0) Gecko/20100101 Firefox/90.0\"\n",
    "    },\n",
    "    {\n",
    "        \"Accept\": \"text/html,application/xhtml+xml,application/xml;q=0.9,image/webp,*/*;q=0.8\",\n",
    "        \"Accept-Encoding\": \"gzip, deflate, br\",\n",
    "        \"Accept-Language\": \"en-US,en;q=0.5\",\n",
    "        \"Host\": \"httpbin.org\",\n",
    "        \"Sec-Fetch-Dest\": \"document\",\n",
    "        \"Sec-Fetch-Mode\": \"navigate\",\n",
    "        \"Sec-Fetch-Site\": \"none\",\n",
    "        \"Sec-Fetch-User\": \"?1\",\n",
    "        \"Upgrade-Insecure-Requests\": \"1\",\n",
    "        \"User-Agent\": \"Mozilla/5.0 (iPhone; CPU iPhone OS 14_6 like Mac OS X) AppleWebKit/605.1.15 (KHTML, like Gecko) Version/14.0 Mobile/15E148 Safari/604.1\"\n",
    "    },\n",
    "    {\n",
    "        \"Accept\": \"text/html,application/xhtml+xml,application/xml;q=0.9,*/*;q=0.8\",\n",
    "        \"Accept-Encoding\": \"gzip, deflate, br\",\n",
    "        \"Accept-Language\": \"en-GB,en;q=0.5\",\n",
    "        \"Host\": \"httpbin.org\",\n",
    "        \"Sec-Fetch-Dest\": \"document\",\n",
    "        \"Sec-Fetch-Mode\": \"navigate\",\n",
    "        \"Sec-Fetch-Site\": \"none\",\n",
    "        \"Sec-Fetch-User\": \"?1\",\n",
    "        \"Upgrade-Insecure-Requests\": \"1\",\n",
    "        \"User-Agent\": \"Mozilla/5.0 (Windows NT 6.1; WOW64; rv:54.0) Gecko/20100101 Firefox/54.0\"\n",
    "    },\n",
    "    {\n",
    "        \"Accept\": \"text/html,application/xhtml+xml,application/xml;q=0.9,*/*;q=0.8\",\n",
    "        \"Accept-Encoding\": \"gzip, deflate, br\",\n",
    "        \"Accept-Language\": \"en-US,en;q=0.9\",\n",
    "        \"Host\": \"httpbin.org\",\n",
    "        \"Sec-Fetch-Dest\": \"document\",\n",
    "        \"Sec-Fetch-Mode\": \"navigate\",\n",
    "        \"Sec-Fetch-Site\": \"none\",\n",
    "        \"Sec-Fetch-User\": \"?1\",\n",
    "        \"Upgrade-Insecure-Requests\": \"1\",\n",
    "        \"User-Agent\": \"Mozilla/5.0 (Macintosh; Intel Mac OS X 10_14_6) AppleWebKit/605.1.15 (KHTML, like Gecko) Version/12.1.2 Safari/605.1.15\"\n",
    "    }\n",
    "]\n",
    "\n",
    "headers = random.choice(headers_list) \n",
    "response = requests.get('https://httpbin.org/headers', headers=headers, proxies=proxies) \n",
    "print(response.json()['headers'])"
   ]
  },
  {
   "cell_type": "code",
   "execution_count": 32,
   "id": "8dd2a2ee",
   "metadata": {},
   "outputs": [
    {
     "name": "stdout",
     "output_type": "stream",
     "text": [
      "Hello from thread Thread 1\n"
     ]
    }
   ],
   "source": [
    "import threading\n",
    "\n",
    "#define a function that must be executed using threads\n",
    "def thread_function(name):\n",
    "    print(\"Hello from thread\", name)\n",
    "\n",
    "#create a thread and execute the function\n",
    "thread = threading.Thread(target=thread_function, args=(\"Thread 1\",)) #create a thread taking our desired function as arguement\n",
    "thread.start()\n",
    "thread.join() #thread.start() starts the thread and thread.join() stops the thread"
   ]
  }
 ],
 "metadata": {
  "kernelspec": {
   "display_name": "Python 3 (ipykernel)",
   "language": "python",
   "name": "python3"
  },
  "language_info": {
   "codemirror_mode": {
    "name": "ipython",
    "version": 3
   },
   "file_extension": ".py",
   "mimetype": "text/x-python",
   "name": "python",
   "nbconvert_exporter": "python",
   "pygments_lexer": "ipython3",
   "version": "3.11.5"
  }
 },
 "nbformat": 4,
 "nbformat_minor": 5
}
